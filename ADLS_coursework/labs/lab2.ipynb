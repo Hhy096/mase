{
 "cells": [
  {
   "cell_type": "code",
   "execution_count": 1,
   "metadata": {},
   "outputs": [],
   "source": [
    "import sys\n",
    "import logging\n",
    "import os\n",
    "from pathlib import Path\n",
    "from pprint import pprint as pp"
   ]
  },
  {
   "cell_type": "code",
   "execution_count": 2,
   "metadata": {},
   "outputs": [],
   "source": [
    "os.chdir('/home/honghaoyang/mase/machop')"
   ]
  },
  {
   "cell_type": "code",
   "execution_count": 3,
   "metadata": {},
   "outputs": [
    {
     "name": "stderr",
     "output_type": "stream",
     "text": [
      "/home/honghaoyang/miniconda3/envs/mase_lab/lib/python3.10/site-packages/tqdm/auto.py:21: TqdmWarning: IProgress not found. Please update jupyter and ipywidgets. See https://ipywidgets.readthedocs.io/en/stable/user_install.html\n",
      "  from .autonotebook import tqdm as notebook_tqdm\n",
      "\u001b[32mINFO    \u001b[0m \u001b[34mSet logging level to info\u001b[0m\n"
     ]
    }
   ],
   "source": [
    "from chop.dataset import MaseDataModule, get_dataset_info\n",
    "from chop.tools.logger import set_logging_verbosity\n",
    "\n",
    "from chop.passes.graph import (\n",
    "    save_node_meta_param_interface_pass,\n",
    "    report_node_meta_param_analysis_pass,\n",
    "    profile_statistics_analysis_pass,\n",
    "    add_common_metadata_analysis_pass,\n",
    "    init_metadata_analysis_pass,\n",
    "    add_software_metadata_analysis_pass,\n",
    ")\n",
    "from chop.tools.get_input import InputGenerator\n",
    "from chop.tools.checkpoint_load import load_model\n",
    "from chop.ir import MaseGraph\n",
    "\n",
    "from chop.models import get_model_info, get_model\n",
    "\n",
    "set_logging_verbosity(\"info\")"
   ]
  },
  {
   "cell_type": "code",
   "execution_count": 4,
   "metadata": {},
   "outputs": [],
   "source": [
    "batch_size = 8\n",
    "model_name = \"jsc-tiny\"\n",
    "dataset_name = \"jsc\"\n",
    "\n",
    "\n",
    "data_module = MaseDataModule(\n",
    "    name=dataset_name,\n",
    "    batch_size=batch_size,\n",
    "    model_name=model_name,\n",
    "    num_workers=0,\n",
    ")\n",
    "data_module.prepare_data()\n",
    "data_module.setup()"
   ]
  },
  {
   "cell_type": "code",
   "execution_count": 5,
   "metadata": {},
   "outputs": [
    {
     "name": "stderr",
     "output_type": "stream",
     "text": [
      "\u001b[32mINFO    \u001b[0m \u001b[34mLoaded pytorch lightning checkpoint from ../mase_output/jsc-tiny_classification_jsc_2024-01-29/software/training_ckpts/best.ckpt\u001b[0m\n"
     ]
    }
   ],
   "source": [
    "CHECKPOINT_PATH = \"../mase_output/jsc-tiny_classification_jsc_2024-01-29/software/training_ckpts/best.ckpt\"\n",
    "model_info = get_model_info(model_name)\n",
    "model = get_model(\n",
    "    model_name,\n",
    "    task=\"cls\",\n",
    "    dataset_info=data_module.dataset_info,\n",
    "    pretrained=False)\n",
    "\n",
    "model = load_model(load_name=CHECKPOINT_PATH, load_type=\"pl\", model=model)"
   ]
  },
  {
   "cell_type": "code",
   "execution_count": 6,
   "metadata": {},
   "outputs": [],
   "source": [
    "# get the input generator\n",
    "input_generator = InputGenerator(\n",
    "    data_module=data_module,\n",
    "    model_info=model_info,\n",
    "    task=\"cls\",\n",
    "    which_dataloader=\"train\",\n",
    ")\n",
    "\n",
    "# a demonstration of how to feed an input value to the model\n",
    "dummy_in = next(iter(input_generator))\n",
    "_ = model(**dummy_in)"
   ]
  },
  {
   "cell_type": "code",
   "execution_count": 7,
   "metadata": {},
   "outputs": [
    {
     "name": "stderr",
     "output_type": "stream",
     "text": [
      "Profiling weight statistics: 100%|██████████| 6/6 [00:00<00:00, 11310.48it/s]\n",
      "Profiling act statistics: 100%|██████████| 4/4 [00:00<00:00, 578.48it/s]\n",
      "\u001b[32mINFO    \u001b[0m \u001b[34mInspecting graph [add_common_meta_param_analysis_pass]\u001b[0m\n",
      "\u001b[32mINFO    \u001b[0m \u001b[34m\n",
      "+--------------+--------------+---------------------+--------------+-----------------------------------------------------------------------------------------+\n",
      "| Node name    | Fx Node op   | Mase type           | Mase op      | Software Param                                                                          |\n",
      "+==============+==============+=====================+==============+=========================================================================================+\n",
      "| x            | placeholder  | placeholder         | placeholder  | {'results': {'data_out_0': {'stat': {}}}}                                               |\n",
      "+--------------+--------------+---------------------+--------------+-----------------------------------------------------------------------------------------+\n",
      "| seq_blocks_0 | call_module  | module              | batch_norm1d | {'args': {'bias': {'stat': {}},                                                         |\n",
      "|              |              |                     |              |           'data_in_0': {'stat': {}},                                                    |\n",
      "|              |              |                     |              |           'running_mean': {'stat': {}},                                                 |\n",
      "|              |              |                     |              |           'running_var': {'stat': {}},                                                  |\n",
      "|              |              |                     |              |           'weight': {'stat': {}}},                                                      |\n",
      "|              |              |                     |              |  'results': {'data_out_0': {'stat': {}}}}                                               |\n",
      "+--------------+--------------+---------------------+--------------+-----------------------------------------------------------------------------------------+\n",
      "| seq_blocks_1 | call_module  | module_related_func | relu         | {'args': {'data_in_0': {'stat': {'range_quantile': {'count': 512,                       |\n",
      "|              |              |                     |              |                                                     'max': 2.911917209625244,           |\n",
      "|              |              |                     |              |                                                     'min': -1.4441481828689575,         |\n",
      "|              |              |                     |              |                                                     'range': 4.356065273284912}}}},     |\n",
      "|              |              |                     |              |  'results': {'data_out_0': {'stat': {}}}}                                               |\n",
      "+--------------+--------------+---------------------+--------------+-----------------------------------------------------------------------------------------+\n",
      "| seq_blocks_2 | call_module  | module_related_func | linear       | {'args': {'bias': {'stat': {'variance_precise': {'count': 5,                            |\n",
      "|              |              |                     |              |                                                  'mean': 0.1794043481349945,            |\n",
      "|              |              |                     |              |                                                  'variance': 0.14141012728214264}}},    |\n",
      "|              |              |                     |              |           'data_in_0': {'stat': {}},                                                    |\n",
      "|              |              |                     |              |           'weight': {'stat': {'variance_precise': {'count': 80,                         |\n",
      "|              |              |                     |              |                                                    'mean': 0.029371008276939392,        |\n",
      "|              |              |                     |              |                                                    'variance': 0.09214267879724503}}}}, |\n",
      "|              |              |                     |              |  'results': {'data_out_0': {'stat': {}}}}                                               |\n",
      "+--------------+--------------+---------------------+--------------+-----------------------------------------------------------------------------------------+\n",
      "| seq_blocks_3 | call_module  | module_related_func | relu         | {'args': {'data_in_0': {'stat': {'range_quantile': {'count': 160,                       |\n",
      "|              |              |                     |              |                                                     'max': 3.4046106338500977,          |\n",
      "|              |              |                     |              |                                                     'min': -4.955186367034912,          |\n",
      "|              |              |                     |              |                                                     'range': 8.359796524047852}}}},     |\n",
      "|              |              |                     |              |  'results': {'data_out_0': {'stat': {}}}}                                               |\n",
      "+--------------+--------------+---------------------+--------------+-----------------------------------------------------------------------------------------+\n",
      "| output       | output       | output              | output       | {'args': {'data_in_0': {'stat': {}}}}                                                   |\n",
      "+--------------+--------------+---------------------+--------------+-----------------------------------------------------------------------------------------+\u001b[0m\n"
     ]
    },
    {
     "data": {
      "text/plain": [
       "<chop.ir.graph.mase_graph.MaseGraph at 0x7f7a87e06200>"
      ]
     },
     "execution_count": 7,
     "metadata": {},
     "output_type": "execute_result"
    }
   ],
   "source": [
    "# generate the mase graph and initialize node metadata\n",
    "mg = MaseGraph(model=model)\n",
    "mg, _ = init_metadata_analysis_pass(mg, None)\n",
    "mg, _ = add_common_metadata_analysis_pass(mg, {\"dummy_in\": dummy_in})\n",
    "mg, _ = add_software_metadata_analysis_pass(mg, None)\n",
    "\n",
    "pass_args = {\n",
    "    \"by\": \"type\",                                                            # collect statistics by node name\n",
    "    \"target_weight_nodes\": [\"linear\"],                                       # collect weight statistics for linear layers\n",
    "    \"target_activation_nodes\": [\"relu\"],                                     # collect activation statistics for relu layers\n",
    "    \"weight_statistics\": {\n",
    "        \"variance_precise\": {\"device\": \"cpu\", \"dims\": \"all\"},                # collect precise variance of the weight\n",
    "    },\n",
    "    \"activation_statistics\": {\n",
    "        \"range_quantile\": {\"device\": \"cpu\", \"dims\": \"all\", \"quantile\": 0.97} # collect 97% quantile of the activation range\n",
    "    },\n",
    "    \"input_generator\": input_generator,                                      # the input generator for feeding data to the model\n",
    "    \"num_samples\": 32,                                                       # feed 32 samples to the model\n",
    "}\n",
    "\n",
    "mg, _ = profile_statistics_analysis_pass(mg, pass_args)\n",
    "mg, _ = report_node_meta_param_analysis_pass(mg, {\"which\": (\"software\",)})\n",
    "mg"
   ]
  },
  {
   "cell_type": "code",
   "execution_count": 8,
   "metadata": {},
   "outputs": [],
   "source": [
    "from chop.passes.graph.transforms import (\n",
    "    quantize_transform_pass,\n",
    "    summarize_quantization_analysis_pass,\n",
    ")\n",
    "from chop.ir.graph.mase_graph import MaseGraph\n",
    "\n",
    "pass_args = {\n",
    "    \"by\": \"type\",\n",
    "    \"default\": {\"config\": {\"name\": None}},\n",
    "    \"linear\": {\n",
    "        \"config\": {\n",
    "            \"name\": \"integer\",\n",
    "            # data\n",
    "            \"data_in_width\": 8,\n",
    "            \"data_in_frac_width\": 4,\n",
    "            # weight\n",
    "            \"weight_width\": 8,\n",
    "            \"weight_frac_width\": 4,\n",
    "            # bias\n",
    "            \"bias_width\": 8,\n",
    "            \"bias_frac_width\": 4,\n",
    "        }\n",
    "    },\n",
    "}\n",
    "\n",
    "ori_mg = MaseGraph(model=model)\n",
    "ori_mg, _ = init_metadata_analysis_pass(ori_mg, None)\n",
    "ori_mg, _ = add_common_metadata_analysis_pass(ori_mg, {\"dummy_in\": dummy_in})\n",
    "\n",
    "mg, _ = quantize_transform_pass(mg, pass_args)"
   ]
  },
  {
   "cell_type": "code",
   "execution_count": 9,
   "metadata": {},
   "outputs": [
    {
     "name": "stdout",
     "output_type": "stream",
     "text": [
      "{'mase_type': 'module_related_func', 'mase_op': 'linear', 'args': {'data_in_0': {'shape': [8, 16], 'torch_dtype': torch.float32, 'type': 'integer', 'precision': [8, 4], 'value': tensor([[0.3986, 0.3627, 2.6615, 3.5014, 2.4787, 1.8169, 0.0690, 0.0000, 0.0953,\n",
      "         0.0000, 0.0000, 0.0000, 0.0000, 0.0000, 2.6859, 0.7919],\n",
      "        [1.4392, 0.4052, 0.0000, 0.0000, 0.0000, 0.0000, 0.2687, 0.2495, 0.2791,\n",
      "         1.3249, 1.9455, 1.2491, 0.2827, 0.7280, 0.0000, 0.0000],\n",
      "        [0.0000, 0.6823, 0.0000, 0.0000, 0.0000, 0.0000, 2.0834, 2.2368, 1.9493,\n",
      "         1.2822, 1.2004, 0.0262, 0.4339, 0.5414, 0.0000, 2.8631],\n",
      "        [0.3218, 1.8367, 1.1289, 0.6413, 2.0010, 2.9984, 1.5374, 1.8358, 1.4468,\n",
      "         0.0000, 0.0000, 0.0000, 0.0000, 0.4484, 1.4463, 0.0000],\n",
      "        [0.0000, 0.8694, 0.0000, 0.0000, 0.0000, 0.0000, 0.6381, 0.5723, 0.6191,\n",
      "         1.7220, 2.0773, 1.4594, 0.6798, 1.3900, 0.0000, 0.2469],\n",
      "        [0.0000, 1.7612, 2.5714, 2.4181, 1.1607, 0.7127, 0.0000, 0.0000, 0.0000,\n",
      "         0.0000, 0.0000, 0.0000, 0.0000, 0.0000, 2.3736, 2.2091],\n",
      "        [3.6370, 0.0000, 0.0000, 0.0000, 0.0000, 0.0000, 1.3776, 0.8316, 1.2997,\n",
      "         0.8884, 0.7724, 0.0577, 0.3255, 0.6718, 0.0000, 0.0000],\n",
      "        [0.8036, 0.0758, 1.3298, 0.4937, 0.1233, 0.0000, 0.0000, 0.0000, 0.0000,\n",
      "         0.0000, 0.0000, 0.0000, 0.0000, 0.0000, 1.5214, 0.4649]],\n",
      "       grad_fn=<ReluBackward0>)}, 'weight': {'type': 'integer', 'precision': [8, 4], 'shape': [5, 16], 'from': None, 'value': Parameter containing:\n",
      "tensor([[-0.1737,  0.0519, -0.2562,  0.2017, -0.1973,  0.0743,  0.1196,  0.3688,\n",
      "          0.0954,  0.3295,  0.2032,  0.2188,  0.0512,  0.0194,  0.1946,  0.6340],\n",
      "        [ 0.6221,  0.0452, -0.8930, -0.5918, -0.1865,  0.1378,  0.0813,  0.2834,\n",
      "          0.0896,  0.1340,  0.3975, -0.0564, -0.1341,  0.0654, -0.8621, -0.3351],\n",
      "        [ 0.1675,  0.4308, -0.0779, -1.0621, -0.0762, -0.0411,  0.1835,  0.0226,\n",
      "          0.0767, -0.0853,  0.1660, -0.1465, -0.1575, -0.0719,  0.3920, -0.5298],\n",
      "        [ 0.2915,  0.3168,  0.2893, -0.0446,  0.1722, -0.2891,  0.2570, -0.1291,\n",
      "          0.1326, -0.0523, -0.0055, -0.0313,  0.1856,  0.2021,  0.2171, -0.3560],\n",
      "        [-0.2499, -0.0059,  0.3624,  0.3600,  0.3967,  0.5168, -0.3186,  0.0814,\n",
      "         -0.0206,  0.1102, -0.0252,  0.2519, -0.0818, -0.0380,  0.0793, -0.1482]],\n",
      "       requires_grad=True)}, 'bias': {'type': 'integer', 'precision': [8, 4], 'shape': [5], 'from': None, 'value': Parameter containing:\n",
      "tensor([-0.1830,  0.3111,  0.7427,  0.1620, -0.1357], requires_grad=True)}}, 'results': {'data_out_0': {'type': 'float', 'precision': [32], 'shape': [8, 5], 'torch_dtype': torch.float32, 'value': tensor([[0.4789, 0.0000, 0.0000, 1.2399, 3.9813],\n",
      "        [0.8727, 2.2324, 1.1646, 0.8640, 0.0000],\n",
      "        [3.6326, 0.9850, 0.0809, 0.0000, 0.0000],\n",
      "        [0.8135, 0.0000, 1.5123, 1.3677, 2.4837],\n",
      "        [1.7358, 1.5111, 0.9409, 0.7814, 0.0496],\n",
      "        [1.4237, 0.0000, 0.0000, 1.0785, 2.3458],\n",
      "        [0.2729, 3.4608, 1.6674, 1.7846, 0.0000],\n",
      "        [0.0067, 0.0000, 0.6227, 0.9688, 0.4233]], grad_fn=<ReluBackward0>)}}}\n"
     ]
    }
   ],
   "source": [
    "### traverse mg\n",
    "for node in mg.fx_graph.nodes:\n",
    "    ### seq_blocks_2 is with linear op\n",
    "    if node.name == \"seq_blocks_2\":\n",
    "        print(node.meta[\"mase\"].parameters[\"common\"])\n"
   ]
  },
  {
   "cell_type": "code",
   "execution_count": 10,
   "metadata": {},
   "outputs": [
    {
     "name": "stdout",
     "output_type": "stream",
     "text": [
      "{'mase_type': 'module_related_func', 'mase_op': 'linear', 'args': {'data_in_0': {'shape': [8, 16], 'torch_dtype': torch.float32, 'type': 'float', 'precision': [32], 'value': tensor([[0.3986, 0.3627, 2.6615, 3.5014, 2.4787, 1.8169, 0.0690, 0.0000, 0.0953,\n",
      "         0.0000, 0.0000, 0.0000, 0.0000, 0.0000, 2.6859, 0.7919],\n",
      "        [1.4392, 0.4052, 0.0000, 0.0000, 0.0000, 0.0000, 0.2687, 0.2495, 0.2791,\n",
      "         1.3249, 1.9455, 1.2491, 0.2827, 0.7280, 0.0000, 0.0000],\n",
      "        [0.0000, 0.6823, 0.0000, 0.0000, 0.0000, 0.0000, 2.0834, 2.2368, 1.9493,\n",
      "         1.2822, 1.2004, 0.0262, 0.4339, 0.5414, 0.0000, 2.8631],\n",
      "        [0.3218, 1.8367, 1.1289, 0.6413, 2.0010, 2.9984, 1.5374, 1.8358, 1.4468,\n",
      "         0.0000, 0.0000, 0.0000, 0.0000, 0.4484, 1.4463, 0.0000],\n",
      "        [0.0000, 0.8694, 0.0000, 0.0000, 0.0000, 0.0000, 0.6381, 0.5723, 0.6191,\n",
      "         1.7220, 2.0773, 1.4594, 0.6798, 1.3900, 0.0000, 0.2469],\n",
      "        [0.0000, 1.7612, 2.5714, 2.4181, 1.1607, 0.7127, 0.0000, 0.0000, 0.0000,\n",
      "         0.0000, 0.0000, 0.0000, 0.0000, 0.0000, 2.3736, 2.2091],\n",
      "        [3.6370, 0.0000, 0.0000, 0.0000, 0.0000, 0.0000, 1.3776, 0.8316, 1.2997,\n",
      "         0.8884, 0.7724, 0.0577, 0.3255, 0.6718, 0.0000, 0.0000],\n",
      "        [0.8036, 0.0758, 1.3298, 0.4937, 0.1233, 0.0000, 0.0000, 0.0000, 0.0000,\n",
      "         0.0000, 0.0000, 0.0000, 0.0000, 0.0000, 1.5214, 0.4649]],\n",
      "       grad_fn=<ReluBackward0>)}, 'weight': {'type': 'float', 'precision': [32], 'shape': [5, 16], 'from': None, 'value': Parameter containing:\n",
      "tensor([[-0.1737,  0.0519, -0.2562,  0.2017, -0.1973,  0.0743,  0.1196,  0.3688,\n",
      "          0.0954,  0.3295,  0.2032,  0.2188,  0.0512,  0.0194,  0.1946,  0.6340],\n",
      "        [ 0.6221,  0.0452, -0.8930, -0.5918, -0.1865,  0.1378,  0.0813,  0.2834,\n",
      "          0.0896,  0.1340,  0.3975, -0.0564, -0.1341,  0.0654, -0.8621, -0.3351],\n",
      "        [ 0.1675,  0.4308, -0.0779, -1.0621, -0.0762, -0.0411,  0.1835,  0.0226,\n",
      "          0.0767, -0.0853,  0.1660, -0.1465, -0.1575, -0.0719,  0.3920, -0.5298],\n",
      "        [ 0.2915,  0.3168,  0.2893, -0.0446,  0.1722, -0.2891,  0.2570, -0.1291,\n",
      "          0.1326, -0.0523, -0.0055, -0.0313,  0.1856,  0.2021,  0.2171, -0.3560],\n",
      "        [-0.2499, -0.0059,  0.3624,  0.3600,  0.3967,  0.5168, -0.3186,  0.0814,\n",
      "         -0.0206,  0.1102, -0.0252,  0.2519, -0.0818, -0.0380,  0.0793, -0.1482]],\n",
      "       requires_grad=True)}, 'bias': {'type': 'float', 'precision': [32], 'shape': [5], 'from': None, 'value': Parameter containing:\n",
      "tensor([-0.1830,  0.3111,  0.7427,  0.1620, -0.1357], requires_grad=True)}}, 'results': {'data_out_0': {'type': 'float', 'precision': [32], 'shape': [8, 5], 'torch_dtype': torch.float32, 'value': tensor([[0.4789, 0.0000, 0.0000, 1.2399, 3.9813],\n",
      "        [0.8727, 2.2324, 1.1646, 0.8640, 0.0000],\n",
      "        [3.6326, 0.9850, 0.0809, 0.0000, 0.0000],\n",
      "        [0.8135, 0.0000, 1.5123, 1.3677, 2.4837],\n",
      "        [1.7358, 1.5111, 0.9409, 0.7814, 0.0496],\n",
      "        [1.4237, 0.0000, 0.0000, 1.0785, 2.3458],\n",
      "        [0.2729, 3.4608, 1.6674, 1.7846, 0.0000],\n",
      "        [0.0067, 0.0000, 0.6227, 0.9688, 0.4233]], grad_fn=<ReluBackward0>)}}}\n"
     ]
    }
   ],
   "source": [
    "### generate original mg and traverse\n",
    "ori_mg = MaseGraph(model=model)\n",
    "ori_mg, _ = init_metadata_analysis_pass(ori_mg, None)\n",
    "ori_mg, _ = add_common_metadata_analysis_pass(ori_mg, {\"dummy_in\": dummy_in})\n",
    "\n",
    "### traverse ori_mg\n",
    "for node in ori_mg.fx_graph.nodes:\n",
    "    ### print nodes with linear op\n",
    "    if node.name == \"seq_blocks_2\":\n",
    "        ori_mg_weights = node.meta[\"mase\"].parameters[\"common\"][\"args\"][\"weight\"][\"value\"]\n",
    "        print(node.meta[\"mase\"].parameters[\"common\"])"
   ]
  },
  {
   "cell_type": "code",
   "execution_count": 11,
   "metadata": {},
   "outputs": [
    {
     "name": "stdout",
     "output_type": "stream",
     "text": [
      "{'total_flops': 680}\n"
     ]
    }
   ],
   "source": [
    "### optional task\n",
    "from chop.passes.graph.analysis.hhy_lab_pass import flop_count\n",
    "\n",
    "mg_flop, total_flop  = flop_count.count_flops(mg)\n",
    "\n",
    "print(total_flop)"
   ]
  },
  {
   "cell_type": "code",
   "execution_count": 12,
   "metadata": {},
   "outputs": [
    {
     "ename": "AttributeError",
     "evalue": "'Node' object has no attribute 'mase'",
     "output_type": "error",
     "traceback": [
      "\u001b[0;31m---------------------------------------------------------------------------\u001b[0m",
      "\u001b[0;31mAttributeError\u001b[0m                            Traceback (most recent call last)",
      "Cell \u001b[0;32mIn[12], line 1\u001b[0m\n\u001b[0;32m----> 1\u001b[0m mg_bit, total_bit \u001b[38;5;241m=\u001b[39m \u001b[43mflop_count\u001b[49m\u001b[38;5;241;43m.\u001b[39;49m\u001b[43mcount_bitops\u001b[49m\u001b[43m(\u001b[49m\u001b[43mmg\u001b[49m\u001b[43m)\u001b[49m\n\u001b[1;32m      2\u001b[0m \u001b[38;5;28mprint\u001b[39m(total_bit)\n",
      "File \u001b[0;32m~/mase/machop/chop/passes/graph/analysis/hhy_lab_pass/flop_count.py:66\u001b[0m, in \u001b[0;36mcount_bitops\u001b[0;34m(graph)\u001b[0m\n\u001b[1;32m     <a href='file:///home/honghaoyang/mase/machop/chop/passes/graph/analysis/hhy_lab_pass/flop_count.py?line=62'>63</a>\u001b[0m total \u001b[39m=\u001b[39m \u001b[39m0\u001b[39m\n\u001b[1;32m     <a href='file:///home/honghaoyang/mase/machop/chop/passes/graph/analysis/hhy_lab_pass/flop_count.py?line=63'>64</a>\u001b[0m \u001b[39mfor\u001b[39;00m node \u001b[39min\u001b[39;00m graph\u001b[39m.\u001b[39mfx_graph\u001b[39m.\u001b[39mnodes:\n\u001b[0;32m---> <a href='file:///home/honghaoyang/mase/machop/chop/passes/graph/analysis/hhy_lab_pass/flop_count.py?line=65'>66</a>\u001b[0m     meta \u001b[39m=\u001b[39m node\u001b[39m.\u001b[39;49mmase[\u001b[39m\"\u001b[39m\u001b[39mmata\u001b[39m\u001b[39m\"\u001b[39m]\n\u001b[1;32m     <a href='file:///home/honghaoyang/mase/machop/chop/passes/graph/analysis/hhy_lab_pass/flop_count.py?line=66'>67</a>\u001b[0m     mase_op \u001b[39m=\u001b[39m meta\u001b[39m.\u001b[39mparameters[\u001b[39m\"\u001b[39m\u001b[39mcommon\u001b[39m\u001b[39m\"\u001b[39m][\u001b[39m\"\u001b[39m\u001b[39mmase_op\u001b[39m\u001b[39m\"\u001b[39m]\n\u001b[1;32m     <a href='file:///home/honghaoyang/mase/machop/chop/passes/graph/analysis/hhy_lab_pass/flop_count.py?line=67'>68</a>\u001b[0m     mase_type \u001b[39m=\u001b[39m meta\u001b[39m.\u001b[39mparameters[\u001b[39m\"\u001b[39m\u001b[39mcommon\u001b[39m\u001b[39m\"\u001b[39m][\u001b[39m\"\u001b[39m\u001b[39mmase_type\u001b[39m\u001b[39m\"\u001b[39m]\n",
      "\u001b[0;31mAttributeError\u001b[0m: 'Node' object has no attribute 'mase'"
     ]
    }
   ],
   "source": [
    "mg_bit, total_bit = flop_count.count_bitops(mg)\n",
    "print(total_bit)"
   ]
  },
  {
   "cell_type": "code",
   "execution_count": null,
   "metadata": {},
   "outputs": [
    {
     "name": "stdout",
     "output_type": "stream",
     "text": [
      "{'total_flops': 1320.0}\n"
     ]
    }
   ],
   "source": [
    "ori_mg_flop, ori_total_flop  = flop_count.count_flops(ori_mg)\n",
    "\n",
    "print(ori_total_flop)"
   ]
  },
  {
   "cell_type": "code",
   "execution_count": null,
   "metadata": {},
   "outputs": [
    {
     "name": "stdout",
     "output_type": "stream",
     "text": [
      "{'data_avg_bit': 32.0, 'w_avg_bit': 32.0, 'data_overall_bit': 4096, 'w_overall_bit': 2560}\n"
     ]
    }
   ],
   "source": [
    "ori_mg_bit, ori_total_bit = flop_count.count_bitops(ori_mg)\n",
    "print(ori_total_bit)"
   ]
  },
  {
   "cell_type": "code",
   "execution_count": 12,
   "metadata": {},
   "outputs": [
    {
     "name": "stderr",
     "output_type": "stream",
     "text": [
      "\u001b[32mINFO    \u001b[0m \u001b[34mLoaded pytorch lightning checkpoint from ../mase_output/test-hhy_classification_jsc_2024-01-30/software/training_ckpts/best.ckpt\u001b[0m\n"
     ]
    }
   ],
   "source": [
    "### perform quantisation to the test-hhy jsc model (bigger jsc network)\n",
    "\n",
    "batch_size = 8\n",
    "model_name = \"test-hhy\"\n",
    "dataset_name = \"jsc\"\n",
    "\n",
    "data_module = MaseDataModule(\n",
    "    name=dataset_name,\n",
    "    batch_size=batch_size,\n",
    "    model_name=model_name,\n",
    "    num_workers=0,\n",
    ")\n",
    "data_module.prepare_data()\n",
    "data_module.setup()\n",
    "\n",
    "CHECKPOINT_PATH = \"../mase_output/test-hhy_classification_jsc_2024-01-30/software/training_ckpts/best.ckpt\"\n",
    "model_info = get_model_info(model_name)\n",
    "model_test = get_model(\n",
    "    model_name,\n",
    "    task=\"cls\",\n",
    "    dataset_info=data_module.dataset_info,\n",
    "    pretrained=False)\n",
    "\n",
    "model_test = load_model(load_name=CHECKPOINT_PATH, load_type=\"pl\", model=model_test)"
   ]
  },
  {
   "cell_type": "code",
   "execution_count": 13,
   "metadata": {},
   "outputs": [],
   "source": [
    "# get the input generator\n",
    "input_generator = InputGenerator(\n",
    "    data_module=data_module,\n",
    "    model_info=model_info,\n",
    "    task=\"cls\",\n",
    "    which_dataloader=\"train\",\n",
    ")\n",
    "\n",
    "# a demonstration of how to feed an input value to the model\n",
    "dummy_in = next(iter(input_generator))\n",
    "_ = model_test(**dummy_in)"
   ]
  },
  {
   "cell_type": "code",
   "execution_count": 14,
   "metadata": {},
   "outputs": [
    {
     "name": "stderr",
     "output_type": "stream",
     "text": [
      "Profiling weight statistics: 100%|██████████| 16/16 [00:00<00:00, 16476.52it/s]\n",
      "Profiling act statistics: 100%|██████████| 4/4 [00:00<00:00, 274.91it/s]\n",
      "\u001b[32mINFO    \u001b[0m \u001b[34mInspecting graph [add_common_meta_param_analysis_pass]\u001b[0m\n",
      "\u001b[32mINFO    \u001b[0m \u001b[34m\n",
      "+---------------+--------------+---------------------+--------------+------------------------------------------------------------------------------------------+\n",
      "| Node name     | Fx Node op   | Mase type           | Mase op      | Software Param                                                                           |\n",
      "+===============+==============+=====================+==============+==========================================================================================+\n",
      "| x             | placeholder  | placeholder         | placeholder  | {'results': {'data_out_0': {'stat': {}}}}                                                |\n",
      "+---------------+--------------+---------------------+--------------+------------------------------------------------------------------------------------------+\n",
      "| seq_blocks_0  | call_module  | module              | batch_norm1d | {'args': {'bias': {'stat': {}},                                                          |\n",
      "|               |              |                     |              |           'data_in_0': {'stat': {}},                                                     |\n",
      "|               |              |                     |              |           'running_mean': {'stat': {}},                                                  |\n",
      "|               |              |                     |              |           'running_var': {'stat': {}},                                                   |\n",
      "|               |              |                     |              |           'weight': {'stat': {}}},                                                       |\n",
      "|               |              |                     |              |  'results': {'data_out_0': {'stat': {}}}}                                                |\n",
      "+---------------+--------------+---------------------+--------------+------------------------------------------------------------------------------------------+\n",
      "| seq_blocks_1  | call_module  | module_related_func | relu         | {'args': {'data_in_0': {'stat': {'range_quantile': {'count': 512,                        |\n",
      "|               |              |                     |              |                                                     'max': 2.195995807647705,            |\n",
      "|               |              |                     |              |                                                     'min': -1.6955420970916748,          |\n",
      "|               |              |                     |              |                                                     'range': 3.89153790473938}}}},       |\n",
      "|               |              |                     |              |  'results': {'data_out_0': {'stat': {}}}}                                                |\n",
      "+---------------+--------------+---------------------+--------------+------------------------------------------------------------------------------------------+\n",
      "| seq_blocks_2  | call_module  | module_related_func | linear       | {'args': {'bias': {'stat': {'variance_precise': {'count': 32,                            |\n",
      "|               |              |                     |              |                                                  'mean': -0.028485937044024467,          |\n",
      "|               |              |                     |              |                                                  'variance': 0.016483448445796967}}},    |\n",
      "|               |              |                     |              |           'data_in_0': {'stat': {}},                                                     |\n",
      "|               |              |                     |              |           'weight': {'stat': {'variance_precise': {'count': 512,                         |\n",
      "|               |              |                     |              |                                                    'mean': -0.006392668467015028,        |\n",
      "|               |              |                     |              |                                                    'variance': 0.022297877818346024}}}}, |\n",
      "|               |              |                     |              |  'results': {'data_out_0': {'stat': {}}}}                                                |\n",
      "+---------------+--------------+---------------------+--------------+------------------------------------------------------------------------------------------+\n",
      "| seq_blocks_3  | call_module  | module              | batch_norm1d | {'args': {'bias': {'stat': {}},                                                          |\n",
      "|               |              |                     |              |           'data_in_0': {'stat': {}},                                                     |\n",
      "|               |              |                     |              |           'running_mean': {'stat': {}},                                                  |\n",
      "|               |              |                     |              |           'running_var': {'stat': {}},                                                   |\n",
      "|               |              |                     |              |           'weight': {'stat': {}}},                                                       |\n",
      "|               |              |                     |              |  'results': {'data_out_0': {'stat': {}}}}                                                |\n",
      "+---------------+--------------+---------------------+--------------+------------------------------------------------------------------------------------------+\n",
      "| seq_blocks_4  | call_module  | module_related_func | relu         | {'args': {'data_in_0': {'stat': {'range_quantile': {'count': 1024,                       |\n",
      "|               |              |                     |              |                                                     'max': 1.9157110452651978,           |\n",
      "|               |              |                     |              |                                                     'min': -2.2062790393829346,          |\n",
      "|               |              |                     |              |                                                     'range': 4.121990203857422}}}},      |\n",
      "|               |              |                     |              |  'results': {'data_out_0': {'stat': {}}}}                                                |\n",
      "+---------------+--------------+---------------------+--------------+------------------------------------------------------------------------------------------+\n",
      "| seq_blocks_5  | call_module  | module_related_func | linear       | {'args': {'bias': {'stat': {'variance_precise': {'count': 16,                            |\n",
      "|               |              |                     |              |                                                  'mean': 0.027540912851691246,           |\n",
      "|               |              |                     |              |                                                  'variance': 0.011547764763236046}}},    |\n",
      "|               |              |                     |              |           'data_in_0': {'stat': {}},                                                     |\n",
      "|               |              |                     |              |           'weight': {'stat': {'variance_precise': {'count': 512,                         |\n",
      "|               |              |                     |              |                                                    'mean': -0.0005664294003508985,       |\n",
      "|               |              |                     |              |                                                    'variance': 0.01119445264339447}}}},  |\n",
      "|               |              |                     |              |  'results': {'data_out_0': {'stat': {}}}}                                                |\n",
      "+---------------+--------------+---------------------+--------------+------------------------------------------------------------------------------------------+\n",
      "| seq_blocks_6  | call_module  | module              | batch_norm1d | {'args': {'bias': {'stat': {}},                                                          |\n",
      "|               |              |                     |              |           'data_in_0': {'stat': {}},                                                     |\n",
      "|               |              |                     |              |           'running_mean': {'stat': {}},                                                  |\n",
      "|               |              |                     |              |           'running_var': {'stat': {}},                                                   |\n",
      "|               |              |                     |              |           'weight': {'stat': {}}},                                                       |\n",
      "|               |              |                     |              |  'results': {'data_out_0': {'stat': {}}}}                                                |\n",
      "+---------------+--------------+---------------------+--------------+------------------------------------------------------------------------------------------+\n",
      "| seq_blocks_7  | call_module  | module_related_func | relu         | {'args': {'data_in_0': {'stat': {'range_quantile': {'count': 512,                        |\n",
      "|               |              |                     |              |                                                     'max': 1.659026026725769,            |\n",
      "|               |              |                     |              |                                                     'min': -1.905177116394043,           |\n",
      "|               |              |                     |              |                                                     'range': 3.5642032623291016}}}},     |\n",
      "|               |              |                     |              |  'results': {'data_out_0': {'stat': {}}}}                                                |\n",
      "+---------------+--------------+---------------------+--------------+------------------------------------------------------------------------------------------+\n",
      "| seq_blocks_8  | call_module  | module_related_func | linear       | {'args': {'bias': {'stat': {'variance_precise': {'count': 8,                             |\n",
      "|               |              |                     |              |                                                  'mean': 0.017976922914385796,           |\n",
      "|               |              |                     |              |                                                  'variance': 0.040391065180301666}}},    |\n",
      "|               |              |                     |              |           'data_in_0': {'stat': {}},                                                     |\n",
      "|               |              |                     |              |           'weight': {'stat': {'variance_precise': {'count': 128,                         |\n",
      "|               |              |                     |              |                                                    'mean': -0.03172801434993744,         |\n",
      "|               |              |                     |              |                                                    'variance': 0.020549260079860687}}}}, |\n",
      "|               |              |                     |              |  'results': {'data_out_0': {'stat': {}}}}                                                |\n",
      "+---------------+--------------+---------------------+--------------+------------------------------------------------------------------------------------------+\n",
      "| seq_blocks_9  | call_module  | module              | batch_norm1d | {'args': {'bias': {'stat': {}},                                                          |\n",
      "|               |              |                     |              |           'data_in_0': {'stat': {}},                                                     |\n",
      "|               |              |                     |              |           'running_mean': {'stat': {}},                                                  |\n",
      "|               |              |                     |              |           'running_var': {'stat': {}},                                                   |\n",
      "|               |              |                     |              |           'weight': {'stat': {}}},                                                       |\n",
      "|               |              |                     |              |  'results': {'data_out_0': {'stat': {}}}}                                                |\n",
      "+---------------+--------------+---------------------+--------------+------------------------------------------------------------------------------------------+\n",
      "| seq_blocks_10 | call_module  | module_related_func | relu         | {'args': {'data_in_0': {'stat': {'range_quantile': {'count': 256,                        |\n",
      "|               |              |                     |              |                                                     'max': 1.6079508066177368,           |\n",
      "|               |              |                     |              |                                                     'min': -1.897562026977539,           |\n",
      "|               |              |                     |              |                                                     'range': 3.5055127143859863}}}},     |\n",
      "|               |              |                     |              |  'results': {'data_out_0': {'stat': {}}}}                                                |\n",
      "+---------------+--------------+---------------------+--------------+------------------------------------------------------------------------------------------+\n",
      "| seq_blocks_11 | call_module  | module_related_func | linear       | {'args': {'bias': {'stat': {'variance_precise': {'count': 5,                             |\n",
      "|               |              |                     |              |                                                  'mean': 0.1846069097518921,             |\n",
      "|               |              |                     |              |                                                  'variance': 0.024912076070904732}}},    |\n",
      "|               |              |                     |              |           'data_in_0': {'stat': {}},                                                     |\n",
      "|               |              |                     |              |           'weight': {'stat': {'variance_precise': {'count': 40,                          |\n",
      "|               |              |                     |              |                                                    'mean': -0.028591100126504898,        |\n",
      "|               |              |                     |              |                                                    'variance': 0.044920604676008224}}}}, |\n",
      "|               |              |                     |              |  'results': {'data_out_0': {'stat': {}}}}                                                |\n",
      "+---------------+--------------+---------------------+--------------+------------------------------------------------------------------------------------------+\n",
      "| seq_blocks_12 | call_module  | module              | batch_norm1d | {'args': {'bias': {'stat': {}},                                                          |\n",
      "|               |              |                     |              |           'data_in_0': {'stat': {}},                                                     |\n",
      "|               |              |                     |              |           'running_mean': {'stat': {}},                                                  |\n",
      "|               |              |                     |              |           'running_var': {'stat': {}},                                                   |\n",
      "|               |              |                     |              |           'weight': {'stat': {}}},                                                       |\n",
      "|               |              |                     |              |  'results': {'data_out_0': {'stat': {}}}}                                                |\n",
      "+---------------+--------------+---------------------+--------------+------------------------------------------------------------------------------------------+\n",
      "| seq_blocks_13 | call_module  | module_related_func | relu         | {'args': {'data_in_0': {'stat': {'range_quantile': {'count': 160,                        |\n",
      "|               |              |                     |              |                                                     'max': 3.5290913581848145,           |\n",
      "|               |              |                     |              |                                                     'min': -1.426063060760498,           |\n",
      "|               |              |                     |              |                                                     'range': 4.9551544189453125}}}},     |\n",
      "|               |              |                     |              |  'results': {'data_out_0': {'stat': {}}}}                                                |\n",
      "+---------------+--------------+---------------------+--------------+------------------------------------------------------------------------------------------+\n",
      "| output        | output       | output              | output       | {'args': {'data_in_0': {'stat': {}}}}                                                    |\n",
      "+---------------+--------------+---------------------+--------------+------------------------------------------------------------------------------------------+\u001b[0m\n"
     ]
    },
    {
     "data": {
      "text/plain": [
       "<chop.ir.graph.mase_graph.MaseGraph at 0x7f4fad1f7f10>"
      ]
     },
     "execution_count": 14,
     "metadata": {},
     "output_type": "execute_result"
    }
   ],
   "source": [
    "# generate the mase graph and initialize node metadata\n",
    "mg = MaseGraph(model=model_test)\n",
    "mg, _ = init_metadata_analysis_pass(mg, None)\n",
    "mg, _ = add_common_metadata_analysis_pass(mg, {\"dummy_in\": dummy_in})\n",
    "mg, _ = add_software_metadata_analysis_pass(mg, None)\n",
    "\n",
    "pass_args = {\n",
    "    \"by\": \"type\",                                                            # collect statistics by node name\n",
    "    \"target_weight_nodes\": [\"linear\"],                       # collect weight statistics for linear layers\n",
    "    \"target_activation_nodes\": [\"relu\"],                                     # collect activation statistics for relu layers\n",
    "    \"weight_statistics\": {\n",
    "        \"variance_precise\": {\"device\": \"cpu\", \"dims\": \"all\"},                # collect precise variance of the weight\n",
    "    },\n",
    "    \"activation_statistics\": {\n",
    "        \"range_quantile\": {\"device\": \"cpu\", \"dims\": \"all\", \"quantile\": 0.97} # collect 97% quantile of the activation range\n",
    "    },\n",
    "    \"input_generator\": input_generator,                                      # the input generator for feeding data to the model\n",
    "    \"num_samples\": 32,                                                       # feed 32 samples to the model\n",
    "}\n",
    "\n",
    "mg, _ = profile_statistics_analysis_pass(mg, pass_args)\n",
    "mg, _ = report_node_meta_param_analysis_pass(mg, {\"which\": (\"software\",)})\n",
    "mg"
   ]
  },
  {
   "cell_type": "code",
   "execution_count": 15,
   "metadata": {},
   "outputs": [],
   "source": [
    "from chop.passes.graph.transforms import (\n",
    "    quantize_transform_pass,\n",
    "    summarize_quantization_analysis_pass,\n",
    ")\n",
    "\n",
    "pass_args = {\n",
    "    \"by\": \"type\",\n",
    "    \"default\": {\"config\": {\"name\": None}},\n",
    "    \"linear\": {\n",
    "        \"config\": {\n",
    "            \"name\": \"integer\",\n",
    "            # data\n",
    "            \"data_in_width\": 8,\n",
    "            \"data_in_frac_width\": 4,\n",
    "            # weight\n",
    "            \"weight_width\": 8,\n",
    "            \"weight_frac_width\": 4,\n",
    "            # bias\n",
    "            \"bias_width\": 8,\n",
    "            \"bias_frac_width\": 4,\n",
    "        }\n",
    "    },\n",
    "}\n",
    "\n",
    "ori_mg = MaseGraph(model=model_test)\n",
    "ori_mg, _ = init_metadata_analysis_pass(ori_mg, None)\n",
    "ori_mg, _ = add_common_metadata_analysis_pass(ori_mg, {\"dummy_in\": dummy_in})\n",
    "\n",
    "mg, _ = quantize_transform_pass(mg, pass_args)"
   ]
  },
  {
   "cell_type": "code",
   "execution_count": 43,
   "metadata": {},
   "outputs": [
    {
     "name": "stdout",
     "output_type": "stream",
     "text": [
      "None\n",
      "BatchNorm1d(16, eps=1e-05, momentum=0.1, affine=True, track_running_stats=True)\n",
      "ReLU(inplace=True)\n",
      "LinearInteger(in_features=16, out_features=32, bias=True)\n",
      "BatchNorm1d(32, eps=1e-05, momentum=0.1, affine=True, track_running_stats=True)\n",
      "ReLU(inplace=True)\n",
      "LinearInteger(in_features=32, out_features=16, bias=True)\n",
      "BatchNorm1d(16, eps=1e-05, momentum=0.1, affine=True, track_running_stats=True)\n",
      "ReLU(inplace=True)\n",
      "LinearInteger(in_features=16, out_features=8, bias=True)\n",
      "BatchNorm1d(8, eps=1e-05, momentum=0.1, affine=True, track_running_stats=True)\n",
      "ReLU(inplace=True)\n",
      "LinearInteger(in_features=8, out_features=5, bias=True)\n",
      "BatchNorm1d(5, eps=1e-05, momentum=0.1, affine=True, track_running_stats=True)\n",
      "ReLU(inplace=True)\n",
      "None\n"
     ]
    }
   ],
   "source": [
    "### test quantization\n",
    "\n",
    "test_x = iter(data_module.val_dataloader())\n",
    "xs, ys = next(test_x)\n",
    "\n",
    "\n",
    "# for node in mg.fx_graph.nodes:\n",
    "#     ### print nodes with linear op\n",
    "#     print(node.meta[\"mase\"].model(xs))\n",
    "#     break\n",
    "\n",
    "\n",
    "for node in mg.fx_graph.nodes:\n",
    "    ### print nodes with linear op\n",
    "    # print(node.op)\n",
    "    print(node.meta[\"mase\"].module)\n",
    "    # print(node.meta[\"mase\"].parameters[\"common\"])\n",
    "    # break"
   ]
  },
  {
   "cell_type": "code",
   "execution_count": 17,
   "metadata": {},
   "outputs": [
    {
     "name": "stdout",
     "output_type": "stream",
     "text": [
      "tensor([[0.1210, 0.0000, 0.0000, 0.0000, 3.6378],\n",
      "        [0.0000, 0.0000, 2.1936, 1.7970, 0.0664],\n",
      "        [0.2963, 1.8251, 0.0000, 0.0000, 0.0000],\n",
      "        [0.9156, 0.1657, 0.0000, 1.4720, 0.8020],\n",
      "        [3.5517, 1.0728, 0.0000, 0.0000, 0.0000],\n",
      "        [0.4814, 1.9985, 0.4557, 0.0000, 0.0000],\n",
      "        [0.0000, 0.0000, 0.4554, 2.5201, 2.1980],\n",
      "        [0.0000, 0.0000, 3.3599, 1.5023, 0.0000]], grad_fn=<ReluBackward0>)\n"
     ]
    }
   ],
   "source": [
    "for node in ori_mg.fx_graph.nodes:\n",
    "    ### print nodes with linear op\n",
    "    print(node.meta[\"mase\"].model(xs))\n",
    "    break"
   ]
  },
  {
   "cell_type": "code",
   "execution_count": null,
   "metadata": {},
   "outputs": [],
   "source": [
    "### Optional task\n"
   ]
  }
 ],
 "metadata": {
  "interpreter": {
   "hash": "697f71b126e6c86b5206020f48bf04337ff4076ec8ff64e65d8e4aa20aee17c2"
  },
  "kernelspec": {
   "display_name": "Python 3.10.13 ('mase_lab': conda)",
   "language": "python",
   "name": "python3"
  },
  "language_info": {
   "codemirror_mode": {
    "name": "ipython",
    "version": 3
   },
   "file_extension": ".py",
   "mimetype": "text/x-python",
   "name": "python",
   "nbconvert_exporter": "python",
   "pygments_lexer": "ipython3",
   "version": "3.10.13"
  },
  "orig_nbformat": 4
 },
 "nbformat": 4,
 "nbformat_minor": 2
}
